{
 "cells": [
  {
   "cell_type": "code",
   "execution_count": 44,
   "id": "73b31304-95fe-464e-b0b2-10b03f5b1d1d",
   "metadata": {},
   "outputs": [],
   "source": [
    "import pandas as pd\n",
    "import re\n",
    "import matplotlib.pyplot as plt\n",
    "import numpy as np"
   ]
  },
  {
   "cell_type": "code",
   "execution_count": null,
   "id": "617b769a",
   "metadata": {},
   "outputs": [],
   "source": [
    "# from sklearn.linear_model import LinearRegression"
   ]
  },
  {
   "cell_type": "code",
   "execution_count": 21,
   "id": "bd9d1f91-c990-4f08-9cde-d389dccac888",
   "metadata": {},
   "outputs": [],
   "source": [
    "# !pip install scipy\n",
    "from scipy.stats import linregress"
   ]
  },
  {
   "cell_type": "code",
   "execution_count": 6,
   "id": "099b21e6-72ab-4790-ac0d-5c0d88803baa",
   "metadata": {},
   "outputs": [],
   "source": [
    "dogdf = pd.read_csv(\"dog_rates_tweets.csv\", parse_dates=['created_at'])"
   ]
  },
  {
   "cell_type": "code",
   "execution_count": 7,
   "id": "693934e3",
   "metadata": {},
   "outputs": [
    {
     "data": {
      "text/html": [
       "<div>\n",
       "<style scoped>\n",
       "    .dataframe tbody tr th:only-of-type {\n",
       "        vertical-align: middle;\n",
       "    }\n",
       "\n",
       "    .dataframe tbody tr th {\n",
       "        vertical-align: top;\n",
       "    }\n",
       "\n",
       "    .dataframe thead th {\n",
       "        text-align: right;\n",
       "    }\n",
       "</style>\n",
       "<table border=\"1\" class=\"dataframe\">\n",
       "  <thead>\n",
       "    <tr style=\"text-align: right;\">\n",
       "      <th></th>\n",
       "      <th>id</th>\n",
       "      <th>created_at</th>\n",
       "      <th>text</th>\n",
       "    </tr>\n",
       "  </thead>\n",
       "  <tbody>\n",
       "    <tr>\n",
       "      <th>0</th>\n",
       "      <td>994677639364403200</td>\n",
       "      <td>2018-05-10 20:36:44</td>\n",
       "      <td>@Steff88979267 tell them to h*ck off</td>\n",
       "    </tr>\n",
       "    <tr>\n",
       "      <th>1</th>\n",
       "      <td>994364904978239488</td>\n",
       "      <td>2018-05-09 23:54:02</td>\n",
       "      <td>@NFLOwnerGBP take it back</td>\n",
       "    </tr>\n",
       "    <tr>\n",
       "      <th>2</th>\n",
       "      <td>994363623421153280</td>\n",
       "      <td>2018-05-09 23:48:56</td>\n",
       "      <td>This is Louie. He has misplaced his Cheerio. W...</td>\n",
       "    </tr>\n",
       "    <tr>\n",
       "      <th>3</th>\n",
       "      <td>994336722875047936</td>\n",
       "      <td>2018-05-09 22:02:03</td>\n",
       "      <td>@rachaellanaghan ❤️</td>\n",
       "    </tr>\n",
       "    <tr>\n",
       "      <th>4</th>\n",
       "      <td>994024065982717952</td>\n",
       "      <td>2018-05-09 01:19:40</td>\n",
       "      <td>This is Captain Jack Wobbles. He is currently ...</td>\n",
       "    </tr>\n",
       "    <tr>\n",
       "      <th>...</th>\n",
       "      <td>...</td>\n",
       "      <td>...</td>\n",
       "      <td>...</td>\n",
       "    </tr>\n",
       "    <tr>\n",
       "      <th>11710</th>\n",
       "      <td>1091789851282665472</td>\n",
       "      <td>2019-02-02 20:05:59</td>\n",
       "      <td>This is Cadogan. He’s had the same morning rou...</td>\n",
       "    </tr>\n",
       "    <tr>\n",
       "      <th>11711</th>\n",
       "      <td>1091772144927666176</td>\n",
       "      <td>2019-02-02 18:55:38</td>\n",
       "      <td>@mayapolarbear 6/5 stars</td>\n",
       "    </tr>\n",
       "    <tr>\n",
       "      <th>11712</th>\n",
       "      <td>1091425960606367745</td>\n",
       "      <td>2019-02-01 20:00:01</td>\n",
       "      <td>@Acallofthevoid 🤗</td>\n",
       "    </tr>\n",
       "    <tr>\n",
       "      <th>11713</th>\n",
       "      <td>1091417463512678400</td>\n",
       "      <td>2019-02-01 19:26:15</td>\n",
       "      <td>@jaytay777 OLIVER!!! you’re doing so well budd...</td>\n",
       "    </tr>\n",
       "    <tr>\n",
       "      <th>11714</th>\n",
       "      <td>1091415822495436801</td>\n",
       "      <td>2019-02-01 19:19:44</td>\n",
       "      <td>@hyqnotised she’ll sort through all offers lat...</td>\n",
       "    </tr>\n",
       "  </tbody>\n",
       "</table>\n",
       "<p>11715 rows × 3 columns</p>\n",
       "</div>"
      ],
      "text/plain": [
       "                        id          created_at  \\\n",
       "0       994677639364403200 2018-05-10 20:36:44   \n",
       "1       994364904978239488 2018-05-09 23:54:02   \n",
       "2       994363623421153280 2018-05-09 23:48:56   \n",
       "3       994336722875047936 2018-05-09 22:02:03   \n",
       "4       994024065982717952 2018-05-09 01:19:40   \n",
       "...                    ...                 ...   \n",
       "11710  1091789851282665472 2019-02-02 20:05:59   \n",
       "11711  1091772144927666176 2019-02-02 18:55:38   \n",
       "11712  1091425960606367745 2019-02-01 20:00:01   \n",
       "11713  1091417463512678400 2019-02-01 19:26:15   \n",
       "11714  1091415822495436801 2019-02-01 19:19:44   \n",
       "\n",
       "                                                    text  \n",
       "0                   @Steff88979267 tell them to h*ck off  \n",
       "1                              @NFLOwnerGBP take it back  \n",
       "2      This is Louie. He has misplaced his Cheerio. W...  \n",
       "3                                    @rachaellanaghan ❤️  \n",
       "4      This is Captain Jack Wobbles. He is currently ...  \n",
       "...                                                  ...  \n",
       "11710  This is Cadogan. He’s had the same morning rou...  \n",
       "11711                           @mayapolarbear 6/5 stars  \n",
       "11712                                  @Acallofthevoid 🤗  \n",
       "11713  @jaytay777 OLIVER!!! you’re doing so well budd...  \n",
       "11714  @hyqnotised she’ll sort through all offers lat...  \n",
       "\n",
       "[11715 rows x 3 columns]"
      ]
     },
     "execution_count": 7,
     "metadata": {},
     "output_type": "execute_result"
    }
   ],
   "source": [
    "dogdf"
   ]
  },
  {
   "cell_type": "code",
   "execution_count": 8,
   "id": "5ea319aa-69c2-4def-9ed8-c32389744bcd",
   "metadata": {},
   "outputs": [],
   "source": [
    "def extract_dog_rates(text):\n",
    "    matched_values = re.search(r'(\\d+(\\.\\d+)?)/10',text)\n",
    "    if matched_values:\n",
    "        return float(matched_values.group(1))\n",
    "    return None"
   ]
  },
  {
   "cell_type": "code",
   "execution_count": 9,
   "id": "706d7cb5-ddfb-4329-8039-07ed7d7bc1f6",
   "metadata": {},
   "outputs": [],
   "source": [
    "dogdf['rating'] = dogdf['text'].apply(extract_dog_rates)"
   ]
  },
  {
   "cell_type": "code",
   "execution_count": 10,
   "id": "fae6b966-cb55-49ea-9719-0f30da13bbae",
   "metadata": {},
   "outputs": [],
   "source": [
    "dogdf = dogdf[dogdf['rating'].notnull()]"
   ]
  },
  {
   "cell_type": "code",
   "execution_count": 11,
   "id": "2cd55eb0-e8f2-4f9e-92c2-883fd0e80b39",
   "metadata": {},
   "outputs": [],
   "source": [
    "dogdf = dogdf[dogdf['rating'] <= 25]"
   ]
  },
  {
   "cell_type": "code",
   "execution_count": 12,
   "id": "7f25919e-0cbb-43cb-b481-d79f3ade57c9",
   "metadata": {},
   "outputs": [],
   "source": [
    "dogdf['TimeStamp'] = dogdf['created_at'].apply(lambda x: x.timestamp())"
   ]
  },
  {
   "cell_type": "code",
   "execution_count": 25,
   "id": "ddc0fdec-820f-4317-a217-f58cd8cc023d",
   "metadata": {},
   "outputs": [],
   "source": [
    "x = dogdf['TimeStamp']\n",
    "y = dogdf['rating']"
   ]
  },
  {
   "cell_type": "code",
   "execution_count": 39,
   "id": "d85794ab-f8a5-4e23-9984-d07afbdb35b0",
   "metadata": {},
   "outputs": [
    {
     "data": {
      "text/plain": [
       "2        12.624973\n",
       "7        12.622373\n",
       "8        12.620951\n",
       "24       12.613109\n",
       "30       12.610619\n",
       "           ...    \n",
       "11631    13.183014\n",
       "11638    13.180420\n",
       "11665    13.168949\n",
       "11666    13.168949\n",
       "11672    13.167190\n",
       "Name: TimeStamp, Length: 1871, dtype: float64"
      ]
     },
     "execution_count": 39,
     "metadata": {},
     "output_type": "execute_result"
    }
   ],
   "source": [
    "result = linregress(x,y)\n",
    "best_line = result.slope * x + result.intercept\n",
    "p_value = result.pvalue\n",
    "# residuals\n",
    "best_line"
   ]
  },
  {
   "cell_type": "code",
   "execution_count": 40,
   "id": "5523e1b1",
   "metadata": {},
   "outputs": [
    {
     "data": {
      "text/plain": [
       "2        14.0\n",
       "7        13.0\n",
       "8        14.0\n",
       "24       13.0\n",
       "30       13.0\n",
       "         ... \n",
       "11631    15.0\n",
       "11638    14.0\n",
       "11665    13.0\n",
       "11666    13.0\n",
       "11672    12.0\n",
       "Name: rating, Length: 1871, dtype: float64"
      ]
     },
     "execution_count": 40,
     "metadata": {},
     "output_type": "execute_result"
    }
   ],
   "source": [
    "y"
   ]
  },
  {
   "cell_type": "code",
   "execution_count": 43,
   "id": "47a86591",
   "metadata": {},
   "outputs": [
    {
     "data": {
      "text/plain": [
       "2        1.375027\n",
       "7        0.377627\n",
       "8        1.379049\n",
       "24       0.386891\n",
       "30       0.389381\n",
       "           ...   \n",
       "11631    1.816986\n",
       "11638    0.819580\n",
       "11665   -0.168949\n",
       "11666   -0.168949\n",
       "11672   -1.167190\n",
       "Length: 1871, dtype: float64"
      ]
     },
     "execution_count": 43,
     "metadata": {},
     "output_type": "execute_result"
    }
   ],
   "source": [
    "residuals = y - best_line\n",
    "residuals\n"
   ]
  },
  {
   "cell_type": "code",
   "execution_count": 42,
   "id": "9f3f3da1",
   "metadata": {},
   "outputs": [
    {
     "name": "stdout",
     "output_type": "stream",
     "text": [
      "We reject the null hyopthesis. The slope is different from zero\n"
     ]
    }
   ],
   "source": [
    "if (p_value > 0.05):\n",
    "    print(\"We cannot reject the null hypothesis. The slope is not different from zero\")\n",
    "else:\n",
    "    print(\"We reject the null hyopthesis. The slope is different from zero\")"
   ]
  },
  {
   "cell_type": "code",
   "execution_count": 49,
   "id": "43d140c7",
   "metadata": {},
   "outputs": [
    {
     "data": {
      "text/plain": [
       "(array([  1.,   1.,   0.,   1.,   0.,   0.,   0.,   0.,   0.,   1.,   2.,\n",
       "          2.,   0.,   4.,   1.,   1.,   1.,   1.,   0.,   4.,   3.,   3.,\n",
       "          7.,   3.,   4.,  18.,   2.,   3.,  41.,  28.,  50., 175.,  75.,\n",
       "        163., 245., 147., 231., 273., 149., 107.,  76.,  25.,  16.,   3.,\n",
       "          2.,   0.,   1.,   0.,   0.,   1.]),\n",
       " array([-11.75256231, -11.41765623, -11.08275014, -10.74784405,\n",
       "        -10.41293797, -10.07803188,  -9.7431258 ,  -9.40821971,\n",
       "         -9.07331362,  -8.73840754,  -8.40350145,  -8.06859537,\n",
       "         -7.73368928,  -7.3987832 ,  -7.06387711,  -6.72897102,\n",
       "         -6.39406494,  -6.05915885,  -5.72425277,  -5.38934668,\n",
       "         -5.05444059,  -4.71953451,  -4.38462842,  -4.04972234,\n",
       "         -3.71481625,  -3.37991016,  -3.04500408,  -2.71009799,\n",
       "         -2.37519191,  -2.04028582,  -1.70537974,  -1.37047365,\n",
       "         -1.03556756,  -0.70066148,  -0.36575539,  -0.03084931,\n",
       "          0.30405678,   0.63896287,   0.97386895,   1.30877504,\n",
       "          1.64368112,   1.97858721,   2.3134933 ,   2.64839938,\n",
       "          2.98330547,   3.31821155,   3.65311764,   3.98802372,\n",
       "          4.32292981,   4.6578359 ,   4.99274198]),\n",
       " <BarContainer object of 50 artists>)"
      ]
     },
     "execution_count": 49,
     "metadata": {},
     "output_type": "execute_result"
    },
    {
     "data": {
      "image/png": "[encoded data removed]",
      "text/plain": [
       "<Figure size 640x480 with 1 Axes>"
      ]
     },
     "metadata": {},
     "output_type": "display_data"
    }
   ],
   "source": [
    "plt.hist(residuals, bins=50)"
   ]
  },
  {
   "cell_type": "code",
   "execution_count": 15,
   "id": "674d1aeb-ef61-493e-a740-ad3e73c0bd67",
   "metadata": {},
   "outputs": [
    {
     "data": {
      "image/png": "[encoded data removed]",
      "text/plain": [
       "<Figure size 1200x600 with 1 Axes>"
      ]
     },
     "metadata": {},
     "output_type": "display_data"
    }
   ],
   "source": [
    "plt.figure(figsize=(12,6))\n",
    "plt.xticks(rotation=25)\n",
    "plt.plot(dogdf['created_at'], dogdf['rating'], 'b.', label='Ratings', alpha=0.5)\n",
    "plt.plot(dogdf['created_at'], best_line, 'r-', label='Best-Fit line', linewidth=3)\n",
    "plt.title('Dog ratings over time')\n",
    "plt.xlabel('Date')\n",
    "plt.ylabel('Rating (/10)')\n",
    "plt.show()"
   ]
  },
  {
   "cell_type": "code",
   "execution_count": null,
   "id": "a8f04ab6-6aa4-4484-be1c-887f5af02961",
   "metadata": {},
   "outputs": [],
   "source": []
  }
 ],
 "metadata": {
  "kernelspec": {
   "display_name": "cmpt353",
   "language": "python",
   "name": "python3"
  },
  "language_info": {
   "codemirror_mode": {
    "name": "ipython",
    "version": 3
   },
   "file_extension": ".py",
   "mimetype": "text/x-python",
   "name": "python",
   "nbconvert_exporter": "python",
   "pygments_lexer": "ipython3",
   "version": "3.10.16"
  }
 },
 "nbformat": 4,
 "nbformat_minor": 5
}
